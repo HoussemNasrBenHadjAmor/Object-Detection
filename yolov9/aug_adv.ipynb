{
 "cells": [
  {
   "cell_type": "code",
   "execution_count": 1,
   "metadata": {},
   "outputs": [
    {
     "name": "stderr",
     "output_type": "stream",
     "text": [
      "INFO:albumentations.check_version:A new version of Albumentations is available: 1.4.12 (you have 1.4.11). Upgrade using: pip install --upgrade albumentations\n"
     ]
    }
   ],
   "source": [
    "from roboflow import Roboflow\n",
    "from ultralytics import YOLO\n",
    "import cv2\n",
    "import numpy as np\n",
    "import matplotlib.pyplot as plt\n",
    "import albumentations as A\n",
    "from albumentations.pytorch import ToTensorV2\n",
    "import os\n",
    "from glob import glob\n",
    "from tqdm import tqdm\n",
    "import torch\n",
    "import torchvision.transforms as transforms\n",
    "import random\n",
    "import torch.nn.functional as F\n",
    "from torchvision.transforms import ToPILImage\n",
    "import shutil"
   ]
  },
  {
   "cell_type": "code",
   "execution_count": null,
   "metadata": {},
   "outputs": [],
   "source": []
  },
  {
   "cell_type": "code",
   "execution_count": 2,
   "metadata": {},
   "outputs": [],
   "source": [
    "# Define augmentation pipeline\n",
    "augmentation_pipeline = A.Compose([\n",
    "    A.HorizontalFlip(p=0.5),\n",
    "    A.RandomBrightnessContrast(p=0.2),\n",
    "    A.ShiftScaleRotate(shift_limit=0.1, scale_limit=0.2, rotate_limit=30, p=0.5),\n",
    "    A.RandomCrop(width=450, height=450, p=0.5),\n",
    "    A.GaussianBlur(p=0.2),\n",
    "    A.HueSaturationValue(p=0.2),\n",
    "    A.CoarseDropout(max_holes=8, max_height=8, max_width=8, p=0.2),\n",
    "    A.OneOf([\n",
    "        A.RandomRain(p=0.2),\n",
    "        A.RandomSnow(p=0.2),\n",
    "        A.RandomFog(p=0.2),\n",
    "        A.RandomSunFlare(p=0.2)\n",
    "    ], p=0.3),  # Add weather augmentation with a 30% probability\n",
    "    ToTensorV2()\n",
    "], bbox_params=A.BboxParams(format='yolo', label_fields=['class_labels']))"
   ]
  },
  {
   "cell_type": "code",
   "execution_count": 3,
   "metadata": {},
   "outputs": [],
   "source": [
    "# Get the image, bboxes and class label for each image in the dataset\n",
    "def load_image_and_labels(image_path, label_path):\n",
    "    image = cv2.imread(image_path)\n",
    "    h, w, _ = image.shape\n",
    "    with open(label_path, 'r') as file:\n",
    "        labels = file.readlines()\n",
    "    bboxes = []\n",
    "    class_labels = []\n",
    "    for label in labels:\n",
    "        class_id, x_center, y_center, width, height = map(float, label.split())\n",
    "        class_labels.append(class_names[int(class_id)])\n",
    "        bboxes.append([x_center, y_center, width, height])\n",
    "    return image, bboxes, class_labels, h, w"
   ]
  },
  {
   "cell_type": "code",
   "execution_count": 4,
   "metadata": {},
   "outputs": [],
   "source": [
    "# Save the augmented label and image\n",
    "def save_augmented_image_and_labels(image, bboxes, class_labels, original_image_path, original_label_path, output_image_dir, output_label_dir, counter):\n",
    "    image_name = os.path.splitext(os.path.basename(original_image_path))[0]\n",
    "    label_name = os.path.splitext(os.path.basename(original_label_path))[0]\n",
    "\n",
    "    augmented_image_path = os.path.join(output_image_dir, f\"{image_name}_aug_{counter}.jpg\")\n",
    "    augmented_label_path = os.path.join(output_label_dir, f\"{label_name}_aug_{counter}.txt\")\n",
    "\n",
    "    # Convert the tensor image back to a NumPy array\n",
    "    if torch.is_tensor(image):\n",
    "        image = image.permute(1, 2, 0).cpu().numpy()\n",
    "\n",
    "\n",
    "    cv2.imwrite(augmented_image_path, image)\n",
    "    \n",
    "    with open(augmented_label_path, 'w') as file:\n",
    "        for bbox, class_label in zip(bboxes, class_labels):\n",
    "            class_id = class_names.index(class_label)\n",
    "            file.write(f\"{class_id} \" + \" \".join(map(str, bbox)) + \"\\n\")"
   ]
  },
  {
   "cell_type": "code",
   "execution_count": 5,
   "metadata": {},
   "outputs": [],
   "source": [
    "def process_augmentation(base_dir, output_dir, augmentation_pipeline, classes_to_augment):\n",
    "    # Process each directory\n",
    "    for folder in ['test', 'train', 'valid']:\n",
    "        image_dir = os.path.join(base_dir, folder, 'images')\n",
    "        label_dir = os.path.join(base_dir, folder, 'labels')\n",
    "\n",
    "        output_image_dir = os.path.join(output_dir, folder, 'images')\n",
    "        output_label_dir = os.path.join(output_dir, folder, 'labels')\n",
    "\n",
    "        os.makedirs(output_image_dir, exist_ok=True)\n",
    "        os.makedirs(output_label_dir, exist_ok=True)\n",
    "\n",
    "        for label_file in tqdm(os.listdir(label_dir)):\n",
    "            label_path = os.path.join(label_dir, label_file)\n",
    "            image_path = os.path.join(image_dir, label_file.replace('.txt', '.jpg'))\n",
    "\n",
    "            image, bboxes, class_labels, h, w = load_image_and_labels(image_path, label_path)\n",
    "\n",
    "            if any(cls in class_labels for cls in classes_to_augment):\n",
    "                for i in range(10):  # Number of augmentations per image\n",
    "                    augmented = augmentation_pipeline(image=image, bboxes=bboxes, class_labels=class_labels)\n",
    "                    augmented_image = augmented['image']\n",
    "                    augmented_bboxes = augmented['bboxes']\n",
    "                    augmented_class_labels = augmented['class_labels']\n",
    "\n",
    "                    if augmented_bboxes and augmented_class_labels:\n",
    "                        save_augmented_image_and_labels(augmented_image, augmented_bboxes, augmented_class_labels, image_path, label_path, output_image_dir, output_label_dir, i)\n",
    "\n",
    "    print(\"Augmentation complete.\")"
   ]
  },
  {
   "cell_type": "code",
   "execution_count": 7,
   "metadata": {},
   "outputs": [
    {
     "name": "stderr",
     "output_type": "stream",
     "text": [
      "100%|██████████| 19/19 [00:28<00:00,  1.52s/it]\n",
      "100%|██████████| 250/250 [05:35<00:00,  1.34s/it]\n",
      "100%|██████████| 43/43 [00:37<00:00,  1.15it/s]"
     ]
    },
    {
     "name": "stdout",
     "output_type": "stream",
     "text": [
      "Augmentation complete.\n"
     ]
    },
    {
     "name": "stderr",
     "output_type": "stream",
     "text": [
      "\n"
     ]
    },
    {
     "ename": "NameError",
     "evalue": "name 'count_classes' is not defined",
     "output_type": "error",
     "traceback": [
      "\u001b[0;31m---------------------------------------------------------------------------\u001b[0m",
      "\u001b[0;31mNameError\u001b[0m                                 Traceback (most recent call last)",
      "Cell \u001b[0;32mIn[7], line 10\u001b[0m\n\u001b[1;32m      6\u001b[0m classes_to_augment \u001b[38;5;241m=\u001b[39m [\u001b[38;5;124m'\u001b[39m\u001b[38;5;124mball\u001b[39m\u001b[38;5;124m'\u001b[39m, \u001b[38;5;124m'\u001b[39m\u001b[38;5;124mgoalkeeper\u001b[39m\u001b[38;5;124m'\u001b[39m, \u001b[38;5;124m'\u001b[39m\u001b[38;5;124mreferee\u001b[39m\u001b[38;5;124m'\u001b[39m]\n\u001b[1;32m      8\u001b[0m process_augmentation(base_dir, output_dir, augmentation_pipeline, classes_to_augment)\n\u001b[0;32m---> 10\u001b[0m augmented_class_counts  \u001b[38;5;241m=\u001b[39m \u001b[43mcount_classes\u001b[49m(base_dir, class_names)\n",
      "\u001b[0;31mNameError\u001b[0m: name 'count_classes' is not defined"
     ]
    }
   ],
   "source": [
    "#Check the new class distribution after augmentations\n",
    "\n",
    "base_dir = '/teamspace/studios/this_studio/football-players-detection-9-yolo'\n",
    "output_dir = '/teamspace/studios/this_studio/football-players-detection-9-yolo-augmented'\n",
    "class_names = ['ball', 'goalkeeper', 'player', 'referee']  # Update with your actual class names\n",
    "classes_to_augment = ['ball', 'goalkeeper', 'referee']\n",
    "\n",
    "process_augmentation(base_dir, output_dir, augmentation_pipeline, classes_to_augment)\n"
   ]
  },
  {
   "cell_type": "code",
   "execution_count": 9,
   "metadata": {},
   "outputs": [],
   "source": [
    "# Get class count\n",
    "\n",
    "def count_classes(base_dir, class_names):\n",
    "    class_counts = {class_name: 0 for class_name in class_names}\n",
    "    \n",
    "    for root, _, files in os.walk(base_dir):\n",
    "        if 'labels' in root:  # Process only the 'labels' directories\n",
    "            for label_file in files:\n",
    "                with open(os.path.join(root, label_file), 'r') as file:\n",
    "                    lines = file.readlines()\n",
    "                    for line in lines:\n",
    "                        class_id = int(line.split()[0])\n",
    "                        class_counts[class_names[class_id]] += 1\n",
    "    \n",
    "    print(class_counts)\n",
    "    return class_counts"
   ]
  },
  {
   "cell_type": "code",
   "execution_count": 18,
   "metadata": {},
   "outputs": [
    {
     "name": "stdout",
     "output_type": "stream",
     "text": [
      "{'ball': 272, 'goalkeeper': 235, 'player': 6229, 'referee': 718}\n"
     ]
    }
   ],
   "source": [
    "original_class_counts = count_classes(base_dir, class_names)"
   ]
  },
  {
   "cell_type": "code",
   "execution_count": 20,
   "metadata": {},
   "outputs": [
    {
     "name": "stdout",
     "output_type": "stream",
     "text": [
      "{'ball': 1594, 'goalkeeper': 1276, 'player': 37606, 'referee': 4065}\n"
     ]
    }
   ],
   "source": [
    "augmented_class_counts = count_classes(output_dir, class_names)"
   ]
  },
  {
   "cell_type": "code",
   "execution_count": 11,
   "metadata": {},
   "outputs": [],
   "source": [
    "# Plot the class count\n",
    "\n",
    "def plot_class_distribution(class_counts):\n",
    "    classes = list(class_counts.keys())\n",
    "    counts = list(class_counts.values())\n",
    "    \n",
    "    plt.figure(figsize=(10, 5))\n",
    "    plt.bar(classes, counts)\n",
    "    plt.xlabel('Classes')\n",
    "    plt.ylabel('Number of Instances')\n",
    "    plt.title('Class Distribution in YOLO Dataset')\n",
    "    plt.xticks(rotation=45)\n",
    "    plt.tight_layout()\n",
    "    plt.show()"
   ]
  },
  {
   "cell_type": "code",
   "execution_count": 14,
   "metadata": {},
   "outputs": [],
   "source": [
    "# Plot class distributions\n",
    "def plot_combined_class_distribution(original_counts, augmented_counts, class_names, title):\n",
    "    labels = class_names\n",
    "    original_values = [original_counts[cls] for cls in class_names]\n",
    "    augmented_values = [augmented_counts[cls] for cls in class_names]\n",
    "\n",
    "    x = np.arange(len(labels))  # the label locations\n",
    "    width = 0.35  # the width of the bars\n",
    "\n",
    "    fig, ax = plt.subplots(figsize=(10, 5))\n",
    "    rects1 = ax.bar(x - width/2, original_values, width, label='Original')\n",
    "    rects2 = ax.bar(x + width/2, augmented_values, width, label='Augmented')\n",
    "\n",
    "    # Add some text for labels, title and custom x-axis tick labels, etc.\n",
    "    ax.set_xlabel('Class')\n",
    "    ax.set_ylabel('Number of Instances')\n",
    "    ax.set_title(title)\n",
    "    ax.set_xticks(x)\n",
    "    ax.set_xticklabels(labels)\n",
    "    ax.legend()\n",
    "\n",
    "    # Attach a text label above each bar in *rects*, displaying its height.\n",
    "    def autolabel(rects):\n",
    "        for rect in rects:\n",
    "            height = rect.get_height()\n",
    "            ax.annotate('{}'.format(height),\n",
    "                        xy=(rect.get_x() + rect.get_width() / 2, height),\n",
    "                        xytext=(0, 3),  # 3 points vertical offset\n",
    "                        textcoords=\"offset points\",\n",
    "                        ha='center', va='bottom')\n",
    "\n",
    "    autolabel(rects1)\n",
    "    autolabel(rects2)\n",
    "\n",
    "    fig.tight_layout()\n",
    "\n",
    "    plt.xticks(rotation=45)\n",
    "    plt.show()"
   ]
  },
  {
   "cell_type": "code",
   "execution_count": 21,
   "metadata": {},
   "outputs": [
    {
     "data": {
      "image/png": "[encoded data removed]",
      "text/plain": [
       "<Figure size 1000x500 with 1 Axes>"
      ]
     },
     "metadata": {},
     "output_type": "display_data"
    }
   ],
   "source": [
    "# plot combined class distribution\n",
    "\n",
    "plot_combined_class_distribution(original_class_counts, augmented_class_counts, class_names, 'Class Distribution Before and After Augmentation')"
   ]
  }
 ],
 "metadata": {
  "language_info": {
   "name": "python"
  }
 },
 "nbformat": 4,
 "nbformat_minor": 2
}

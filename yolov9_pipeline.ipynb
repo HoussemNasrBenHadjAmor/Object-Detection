{
 "cells": [
  {
   "cell_type": "code",
   "execution_count": null,
   "metadata": {},
   "outputs": [],
   "source": [
    "# Installer les packages \n",
    "\n",
    "%pip install roboflow \n",
    "%pip install pycocotools\n",
    "%pip install -U albumentations"
   ]
  },
  {
   "cell_type": "code",
   "execution_count": null,
   "metadata": {},
   "outputs": [],
   "source": [
    "# Télecharger notre dataset \n",
    "from roboflow import Roboflow\n",
    "\n",
    "rf = Roboflow(api_key=\"KhV6y3SVx0M66EFe23Vv\")\n",
    "project = rf.workspace(\"bootit\").project(\"yolov5-peoples-cars\")\n",
    "version = project.version(8)\n",
    "dataset = version.download(\"yolov9\")"
   ]
  },
  {
   "cell_type": "code",
   "execution_count": null,
   "metadata": {},
   "outputs": [],
   "source": [
    "# Lancer le script d'augmentations de données (augmentation géométriques et brumes)\n",
    "!python /kaggle/working/Object-Detection/yolov9/aug_yolov9.py -c /kaggle/working/Object-Detection/yolov9/data_config/augmentation.yaml"
   ]
  },
  {
   "cell_type": "code",
   "execution_count": null,
   "metadata": {},
   "outputs": [],
   "source": [
    "# Entrainer notre modèle pour 30 epochs pour qu'on puisse l'utiliser dans la génération des attaques adversariales\n",
    "from ultralytics import YOLO\n",
    "\n",
    "# Télécharger le modèle préentrainé par défault\n",
    "model = YOLO(\"yolov9s\")\n",
    "\n",
    "# lancer l'étape d'entrainement\n",
    "model.train(data=\"/kaggle/working/Object-Detection/FRCNN/data_configs/ppe.yaml\", epochs=30, imgsz=640, batch=64, device =[0,1], patience=20)"
   ]
  },
  {
   "cell_type": "code",
   "execution_count": null,
   "metadata": {},
   "outputs": [],
   "source": [
    "# Lancer le script des attaques adversariales\n",
    "\n",
    "!python /kaggle/working/Object-Detection/yolov9/fgsm_yolov9.py -c /kaggle/working/Object-Detection/yolov9/data_config/fgsm.yaml"
   ]
  },
  {
   "cell_type": "code",
   "execution_count": null,
   "metadata": {},
   "outputs": [],
   "source": [
    "# Réentainer encore notre modèle sur la base de donnée finale en utilisant le modèle déja obtenu dès la première tentative d'entrainement\n",
    "model = YOLO(\"/kaggle/input/yolov9-30-epochs-no-attack-model/best.pt\")\n",
    "\n",
    "model.train(data=\"/kaggle/working/Object-Detection/FRCNN/data_configs/ppe.yaml\", epochs=100, imgsz=640, batch=64, device =[0,1], patience=20, model = '/kaggle/input/yolov9-30-epochs-no-attack-model/best.pt')"
   ]
  }
 ],
 "metadata": {
  "kernelspec": {
   "display_name": "Python 3",
   "language": "python",
   "name": "python3"
  },
  "language_info": {
   "codemirror_mode": {
    "name": "ipython",
    "version": 3
   },
   "file_extension": ".py",
   "mimetype": "text/x-python",
   "name": "python",
   "nbconvert_exporter": "python",
   "pygments_lexer": "ipython3",
   "version": "3.12.1"
  }
 },
 "nbformat": 4,
 "nbformat_minor": 2
}

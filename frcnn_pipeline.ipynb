{
 "cells": [
  {
   "cell_type": "code",
   "execution_count": null,
   "metadata": {},
   "outputs": [],
   "source": [
    "# Installer les packages \n",
    "# On a utilisé Lightning Ai pour entrainer notre FRCNN puisqu'il met à notre disposition un gpu puissant.\n",
    "\n",
    "%pip install roboflow \n",
    "%pip install pycocotools\n",
    "%pip install -r /teamspace/studios/this_studio/Object-Detection/FRCNN/requirements.txt"
   ]
  },
  {
   "cell_type": "code",
   "execution_count": null,
   "metadata": {},
   "outputs": [],
   "source": [
    "# Télecharger notre dataset \n",
    "from roboflow import Roboflow\n",
    "\n",
    "rf = Roboflow(api_key=\"KhV6y3SVx0M66EFe23Vv\")\n",
    "project = rf.workspace(\"bootit\").project(\"yolov5-peoples-cars\")\n",
    "version = project.version(8)\n",
    "dataset = version.download(\"voc\")"
   ]
  },
  {
   "cell_type": "code",
   "execution_count": null,
   "metadata": {},
   "outputs": [],
   "source": [
    "# Lancer le script d'augmentations de données (augmentation géométriques et brumes)\n",
    "!python /teamspace/studios/this_studio/Object-Detection/FRCNN/aug_frcnn.py -c /teamspace/studios/this_studio/Object-Detection/FRCNN/data_configs/augmentation.yaml"
   ]
  },
  {
   "cell_type": "code",
   "execution_count": null,
   "metadata": {},
   "outputs": [],
   "source": [
    "# Entrainer notre modèle pour 30 epochs pour qu'on puisse l'utiliser dans la génération des attaques adversariales\n",
    "!python /teamspace/studios/this_studio/Object-Detection/FRCNN/train.py --model fasterrcnn_resnet50_fpn_v2 --config /teamspace/studios/this_studio/Object-Detection/FRCNN/data_configs/ppe.yaml --batch-size 8 --epochs 30 --project-name frcnn --no-mosaic"
   ]
  },
  {
   "cell_type": "code",
   "execution_count": null,
   "metadata": {},
   "outputs": [],
   "source": [
    "# Lancer le script des attaques adversariales\n",
    "\n",
    "!python /kaggle/working/Object-Detection/yolov9/fgsm_yolov9.py --config /kaggle/working/Object-Detection/yolov9/data_configs/fgsm.yaml"
   ]
  },
  {
   "cell_type": "code",
   "execution_count": null,
   "metadata": {},
   "outputs": [],
   "source": [
    "# Réentainer encore notre modèle sur la base de donnée finale en utilisant le modèle déja obtenu dès la première tentative d'entrainement\n",
    "!python /teamspace/studios/this_studio/Object-Detection/FRCNN/train.py --model fasterrcnn_resnet50_fpn_v2 --weights /teamspace/studios/this_studio/outputs/training/frcnn/best_model.pth --config /teamspace/studios/this_studio/Object-Detection/FRCNN/data_configs/ppe.yaml --batch-size 8 --epochs 100 --project-name frcnn_100_epochs --no-mosaic"
   ]
  }
 ],
 "metadata": {
  "kernelspec": {
   "display_name": "Python 3",
   "language": "python",
   "name": "python3"
  },
  "language_info": {
   "codemirror_mode": {
    "name": "ipython",
    "version": 3
   },
   "file_extension": ".py",
   "mimetype": "text/x-python",
   "name": "python",
   "nbconvert_exporter": "python",
   "pygments_lexer": "ipython3",
   "version": "3.12.1"
  }
 },
 "nbformat": 4,
 "nbformat_minor": 2
}
